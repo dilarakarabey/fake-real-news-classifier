{
 "cells": [
  {
   "cell_type": "markdown",
   "metadata": {},
   "source": [
    "# Analyzing, Visualizing & Classifying Fake & Real News Data with Logistic Regression\n",
    "\n",
    "In this project, we aim to analyze and visualize news data before predicting whether the article is fake or real news. We will be using Logistic Regression for classification purposes since it's good at text-classifying. Data used can be found [here](https://www.kaggle.com/clmentbisaillon/fake-and-real-news-dataset).\n",
    "\n",
    "The data is split into two datasets, containing 44898 articles in total. The columns include:\n",
    "\n",
    "* title: Contains the title of each article.\n",
    "* text: Contains the context of each article.\n",
    "* subject: Contains the subject of each article.\n",
    "* date: Contains the date each article was posted in a Month DD, YYYY format.\n",
    "\n",
    "## 1. Reading the data in\n",
    "\n",
    "We will not be using the text column for this project. For other columns, we will be familiarizing ourselves with them in this step. Let's import, concatenate and explore the datasets."
   ]
  },
  {
   "cell_type": "code",
   "execution_count": 1,
   "metadata": {},
   "outputs": [],
   "source": [
    "import pandas as pd\n",
    "import numpy as np\n",
    "import re\n",
    "import datetime as dt\n",
    "import matplotlib.pyplot as plt\n",
    "import seaborn as sns\n",
    "import warnings\n",
    "from sklearn.metrics import accuracy_score\n",
    "from sklearn.model_selection import train_test_split\n",
    "from sklearn.linear_model import LogisticRegression\n",
    "from sklearn.feature_extraction.text import CountVectorizer\n",
    "\n",
    "%matplotlib inline\n",
    "\n",
    "warnings.simplefilter(action='ignore', category=Warning)\n",
    "pd.options.mode.chained_assignment = None"
   ]
  },
  {
   "cell_type": "code",
   "execution_count": 2,
   "metadata": {},
   "outputs": [],
   "source": [
    "fake = pd.read_csv(\"Fake.csv\", usecols=[\"title\", \"subject\", \"date\"]).copy()\n",
    "real = pd.read_csv(\"True.csv\", usecols=[\"title\", \"subject\", \"date\"]).copy()"
   ]
  },
  {
   "cell_type": "code",
   "execution_count": 3,
   "metadata": {},
   "outputs": [
    {
     "data": {
      "text/html": [
       "<div>\n",
       "<style scoped>\n",
       "    .dataframe tbody tr th:only-of-type {\n",
       "        vertical-align: middle;\n",
       "    }\n",
       "\n",
       "    .dataframe tbody tr th {\n",
       "        vertical-align: top;\n",
       "    }\n",
       "\n",
       "    .dataframe thead th {\n",
       "        text-align: right;\n",
       "    }\n",
       "</style>\n",
       "<table border=\"1\" class=\"dataframe\">\n",
       "  <thead>\n",
       "    <tr style=\"text-align: right;\">\n",
       "      <th></th>\n",
       "      <th>title</th>\n",
       "      <th>subject</th>\n",
       "      <th>date</th>\n",
       "      <th>label</th>\n",
       "    </tr>\n",
       "  </thead>\n",
       "  <tbody>\n",
       "    <tr>\n",
       "      <th>0</th>\n",
       "      <td>Donald Trump Sends Out Embarrassing New Year’...</td>\n",
       "      <td>News</td>\n",
       "      <td>December 31, 2017</td>\n",
       "      <td>fake</td>\n",
       "    </tr>\n",
       "    <tr>\n",
       "      <th>1</th>\n",
       "      <td>Drunk Bragging Trump Staffer Started Russian ...</td>\n",
       "      <td>News</td>\n",
       "      <td>December 31, 2017</td>\n",
       "      <td>fake</td>\n",
       "    </tr>\n",
       "    <tr>\n",
       "      <th>2</th>\n",
       "      <td>Sheriff David Clarke Becomes An Internet Joke...</td>\n",
       "      <td>News</td>\n",
       "      <td>December 30, 2017</td>\n",
       "      <td>fake</td>\n",
       "    </tr>\n",
       "    <tr>\n",
       "      <th>3</th>\n",
       "      <td>Trump Is So Obsessed He Even Has Obama’s Name...</td>\n",
       "      <td>News</td>\n",
       "      <td>December 29, 2017</td>\n",
       "      <td>fake</td>\n",
       "    </tr>\n",
       "    <tr>\n",
       "      <th>4</th>\n",
       "      <td>Pope Francis Just Called Out Donald Trump Dur...</td>\n",
       "      <td>News</td>\n",
       "      <td>December 25, 2017</td>\n",
       "      <td>fake</td>\n",
       "    </tr>\n",
       "  </tbody>\n",
       "</table>\n",
       "</div>"
      ],
      "text/plain": [
       "                                               title subject  \\\n",
       "0   Donald Trump Sends Out Embarrassing New Year’...    News   \n",
       "1   Drunk Bragging Trump Staffer Started Russian ...    News   \n",
       "2   Sheriff David Clarke Becomes An Internet Joke...    News   \n",
       "3   Trump Is So Obsessed He Even Has Obama’s Name...    News   \n",
       "4   Pope Francis Just Called Out Donald Trump Dur...    News   \n",
       "\n",
       "                date label  \n",
       "0  December 31, 2017  fake  \n",
       "1  December 31, 2017  fake  \n",
       "2  December 30, 2017  fake  \n",
       "3  December 29, 2017  fake  \n",
       "4  December 25, 2017  fake  "
      ]
     },
     "execution_count": 3,
     "metadata": {},
     "output_type": "execute_result"
    }
   ],
   "source": [
    "fake[\"label\"] = \"fake\"\n",
    "real[\"label\"] = \"real\"\n",
    "fake.head()"
   ]
  },
  {
   "cell_type": "code",
   "execution_count": 4,
   "metadata": {},
   "outputs": [
    {
     "data": {
      "text/html": [
       "<div>\n",
       "<style scoped>\n",
       "    .dataframe tbody tr th:only-of-type {\n",
       "        vertical-align: middle;\n",
       "    }\n",
       "\n",
       "    .dataframe tbody tr th {\n",
       "        vertical-align: top;\n",
       "    }\n",
       "\n",
       "    .dataframe thead th {\n",
       "        text-align: right;\n",
       "    }\n",
       "</style>\n",
       "<table border=\"1\" class=\"dataframe\">\n",
       "  <thead>\n",
       "    <tr style=\"text-align: right;\">\n",
       "      <th></th>\n",
       "      <th>title</th>\n",
       "      <th>subject</th>\n",
       "      <th>date</th>\n",
       "      <th>label</th>\n",
       "    </tr>\n",
       "  </thead>\n",
       "  <tbody>\n",
       "    <tr>\n",
       "      <th>0</th>\n",
       "      <td>As U.S. budget fight looms, Republicans flip t...</td>\n",
       "      <td>politicsNews</td>\n",
       "      <td>December 31, 2017</td>\n",
       "      <td>real</td>\n",
       "    </tr>\n",
       "    <tr>\n",
       "      <th>1</th>\n",
       "      <td>U.S. military to accept transgender recruits o...</td>\n",
       "      <td>politicsNews</td>\n",
       "      <td>December 29, 2017</td>\n",
       "      <td>real</td>\n",
       "    </tr>\n",
       "    <tr>\n",
       "      <th>2</th>\n",
       "      <td>Senior U.S. Republican senator: 'Let Mr. Muell...</td>\n",
       "      <td>politicsNews</td>\n",
       "      <td>December 31, 2017</td>\n",
       "      <td>real</td>\n",
       "    </tr>\n",
       "    <tr>\n",
       "      <th>3</th>\n",
       "      <td>FBI Russia probe helped by Australian diplomat...</td>\n",
       "      <td>politicsNews</td>\n",
       "      <td>December 30, 2017</td>\n",
       "      <td>real</td>\n",
       "    </tr>\n",
       "    <tr>\n",
       "      <th>4</th>\n",
       "      <td>Trump wants Postal Service to charge 'much mor...</td>\n",
       "      <td>politicsNews</td>\n",
       "      <td>December 29, 2017</td>\n",
       "      <td>real</td>\n",
       "    </tr>\n",
       "  </tbody>\n",
       "</table>\n",
       "</div>"
      ],
      "text/plain": [
       "                                               title       subject  \\\n",
       "0  As U.S. budget fight looms, Republicans flip t...  politicsNews   \n",
       "1  U.S. military to accept transgender recruits o...  politicsNews   \n",
       "2  Senior U.S. Republican senator: 'Let Mr. Muell...  politicsNews   \n",
       "3  FBI Russia probe helped by Australian diplomat...  politicsNews   \n",
       "4  Trump wants Postal Service to charge 'much mor...  politicsNews   \n",
       "\n",
       "                 date label  \n",
       "0  December 31, 2017   real  \n",
       "1  December 29, 2017   real  \n",
       "2  December 31, 2017   real  \n",
       "3  December 30, 2017   real  \n",
       "4  December 29, 2017   real  "
      ]
     },
     "execution_count": 4,
     "metadata": {},
     "output_type": "execute_result"
    }
   ],
   "source": [
    "real.head()"
   ]
  },
  {
   "cell_type": "markdown",
   "metadata": {},
   "source": [
    "We have labelled the data, we can now combine the datasets. We will do sampling on the entire dataset after combining with a seed. We will use the seed \"1\" for the random number generator for reproducable results."
   ]
  },
  {
   "cell_type": "code",
   "execution_count": 5,
   "metadata": {},
   "outputs": [
    {
     "data": {
      "text/html": [
       "<div>\n",
       "<style scoped>\n",
       "    .dataframe tbody tr th:only-of-type {\n",
       "        vertical-align: middle;\n",
       "    }\n",
       "\n",
       "    .dataframe tbody tr th {\n",
       "        vertical-align: top;\n",
       "    }\n",
       "\n",
       "    .dataframe thead th {\n",
       "        text-align: right;\n",
       "    }\n",
       "</style>\n",
       "<table border=\"1\" class=\"dataframe\">\n",
       "  <thead>\n",
       "    <tr style=\"text-align: right;\">\n",
       "      <th></th>\n",
       "      <th>title</th>\n",
       "      <th>subject</th>\n",
       "      <th>date</th>\n",
       "      <th>label</th>\n",
       "    </tr>\n",
       "  </thead>\n",
       "  <tbody>\n",
       "    <tr>\n",
       "      <th>0</th>\n",
       "      <td>Trump Calls For This Racist Policy To Be Forc...</td>\n",
       "      <td>News</td>\n",
       "      <td>September 21, 2016</td>\n",
       "      <td>fake</td>\n",
       "    </tr>\n",
       "    <tr>\n",
       "      <th>1</th>\n",
       "      <td>Republican ex-defense secretary Cohen backs Hi...</td>\n",
       "      <td>politicsNews</td>\n",
       "      <td>September 7, 2016</td>\n",
       "      <td>real</td>\n",
       "    </tr>\n",
       "    <tr>\n",
       "      <th>2</th>\n",
       "      <td>TEACHER QUITS JOB After 5th, 6th Grade Muslim ...</td>\n",
       "      <td>politics</td>\n",
       "      <td>May 9, 2017</td>\n",
       "      <td>fake</td>\n",
       "    </tr>\n",
       "    <tr>\n",
       "      <th>3</th>\n",
       "      <td>LAURA INGRAHAM RIPS INTO THE PRESS…Crowd Goes ...</td>\n",
       "      <td>politics</td>\n",
       "      <td>Jul 21, 2016</td>\n",
       "      <td>fake</td>\n",
       "    </tr>\n",
       "    <tr>\n",
       "      <th>4</th>\n",
       "      <td>Germany's Merkel suffers state vote setback as...</td>\n",
       "      <td>worldnews</td>\n",
       "      <td>October 14, 2017</td>\n",
       "      <td>real</td>\n",
       "    </tr>\n",
       "  </tbody>\n",
       "</table>\n",
       "</div>"
      ],
      "text/plain": [
       "                                               title       subject  \\\n",
       "0   Trump Calls For This Racist Policy To Be Forc...          News   \n",
       "1  Republican ex-defense secretary Cohen backs Hi...  politicsNews   \n",
       "2  TEACHER QUITS JOB After 5th, 6th Grade Muslim ...      politics   \n",
       "3  LAURA INGRAHAM RIPS INTO THE PRESS…Crowd Goes ...      politics   \n",
       "4  Germany's Merkel suffers state vote setback as...     worldnews   \n",
       "\n",
       "                 date label  \n",
       "0  September 21, 2016  fake  \n",
       "1  September 7, 2016   real  \n",
       "2         May 9, 2017  fake  \n",
       "3        Jul 21, 2016  fake  \n",
       "4   October 14, 2017   real  "
      ]
     },
     "execution_count": 5,
     "metadata": {},
     "output_type": "execute_result"
    }
   ],
   "source": [
    "news = pd.concat([fake, real], axis=0).sample(frac=1, random_state=1).reset_index(drop=True)\n",
    "news.head()"
   ]
  },
  {
   "cell_type": "code",
   "execution_count": 6,
   "metadata": {},
   "outputs": [
    {
     "data": {
      "text/plain": [
       "fake    23481\n",
       "real    21417\n",
       "Name: label, dtype: int64"
      ]
     },
     "execution_count": 6,
     "metadata": {},
     "output_type": "execute_result"
    }
   ],
   "source": [
    "news.label.value_counts(dropna=False)"
   ]
  },
  {
   "cell_type": "markdown",
   "metadata": {},
   "source": [
    "Now that we have combined the data, we will first clean and prepare it.\n",
    "\n",
    "## 2. Preprocessing the data\n",
    "\n",
    "We will first take a look at the columns subject and date."
   ]
  },
  {
   "cell_type": "code",
   "execution_count": 7,
   "metadata": {},
   "outputs": [
    {
     "data": {
      "text/plain": [
       "politicsNews       11272\n",
       "worldnews          10145\n",
       "News                9050\n",
       "politics            6841\n",
       "left-news           4459\n",
       "Government News     1570\n",
       "US_News              783\n",
       "Middle-east          778\n",
       "Name: subject, dtype: int64"
      ]
     },
     "execution_count": 7,
     "metadata": {},
     "output_type": "execute_result"
    }
   ],
   "source": [
    "news.subject.value_counts(dropna=False)"
   ]
  },
  {
   "cell_type": "markdown",
   "metadata": {},
   "source": [
    "As we can see, there are no missing values in this column. However, some subject names are written in camel case with others written in snake case and more... We will replace the column names to fix this problem."
   ]
  },
  {
   "cell_type": "code",
   "execution_count": 8,
   "metadata": {},
   "outputs": [
    {
     "data": {
      "text/plain": [
       "Politics       18113\n",
       "World          10145\n",
       "All             9050\n",
       "Left            4459\n",
       "Government      1570\n",
       "US               783\n",
       "Middle East      778\n",
       "Name: subject, dtype: int64"
      ]
     },
     "execution_count": 8,
     "metadata": {},
     "output_type": "execute_result"
    }
   ],
   "source": [
    "news[\"subject\"] = news[\"subject\"].replace({\"politicsNews\": \"Politics\",\n",
    "                                           \"worldnews\": \"World\",\n",
    "                                           \"politics\": \"Politics\",\n",
    "                                           \"News\": \"All\",\n",
    "                                           \"left-news\": \"Left\", \n",
    "                                           \"Government News\": \"Government\",\n",
    "                                           \"US_News\": \"US\",\n",
    "                                           \"Middle-east\": \"Middle East\"})\n",
    "news.subject.value_counts()"
   ]
  },
  {
   "cell_type": "markdown",
   "metadata": {},
   "source": [
    "We will now take a look at the dates."
   ]
  },
  {
   "cell_type": "code",
   "execution_count": 9,
   "metadata": {},
   "outputs": [
    {
     "data": {
      "text/plain": [
       "December 20, 2017      182\n",
       "December 6, 2017       166\n",
       "November 30, 2017      162\n",
       "November 9, 2017       158\n",
       "October 13, 2017       155\n",
       "                      ... \n",
       "December 22, 2017        1\n",
       "June 24, 2017            1\n",
       "May 22, 2016             1\n",
       "January 24, 2016         1\n",
       "September 11, 2016       1\n",
       "Name: date, Length: 2397, dtype: int64"
      ]
     },
     "execution_count": 9,
     "metadata": {},
     "output_type": "execute_result"
    }
   ],
   "source": [
    "news.date.value_counts(dropna=False)"
   ]
  },
  {
   "cell_type": "markdown",
   "metadata": {},
   "source": [
    "As we can see, there are some values which are not dates. We will explore these values."
   ]
  },
  {
   "cell_type": "code",
   "execution_count": 10,
   "metadata": {
    "scrolled": true
   },
   "outputs": [
    {
     "data": {
      "text/html": [
       "<div>\n",
       "<style scoped>\n",
       "    .dataframe tbody tr th:only-of-type {\n",
       "        vertical-align: middle;\n",
       "    }\n",
       "\n",
       "    .dataframe tbody tr th {\n",
       "        vertical-align: top;\n",
       "    }\n",
       "\n",
       "    .dataframe thead th {\n",
       "        text-align: right;\n",
       "    }\n",
       "</style>\n",
       "<table border=\"1\" class=\"dataframe\">\n",
       "  <thead>\n",
       "    <tr style=\"text-align: right;\">\n",
       "      <th></th>\n",
       "      <th>title</th>\n",
       "      <th>subject</th>\n",
       "      <th>date</th>\n",
       "      <th>label</th>\n",
       "    </tr>\n",
       "  </thead>\n",
       "  <tbody>\n",
       "    <tr>\n",
       "      <th>328</th>\n",
       "      <td>JUST IN: CROOKED DOJ OFFICIAL Didn’t Reveal Th...</td>\n",
       "      <td>Politics</td>\n",
       "      <td>14-Feb-18</td>\n",
       "      <td>fake</td>\n",
       "    </tr>\n",
       "    <tr>\n",
       "      <th>1352</th>\n",
       "      <td>LOCAL REPORTER IN DEEP BLUE STATE Stuns Libera...</td>\n",
       "      <td>Politics</td>\n",
       "      <td>17-Feb-18</td>\n",
       "      <td>fake</td>\n",
       "    </tr>\n",
       "    <tr>\n",
       "      <th>1883</th>\n",
       "      <td>JUST IN: BADASS GENERAL JOHN KELLY Shoved Chin...</td>\n",
       "      <td>Politics</td>\n",
       "      <td>18-Feb-18</td>\n",
       "      <td>fake</td>\n",
       "    </tr>\n",
       "    <tr>\n",
       "      <th>5157</th>\n",
       "      <td>https://fedup.wpengine.com/wp-content/uploads/...</td>\n",
       "      <td>Government</td>\n",
       "      <td>https://fedup.wpengine.com/wp-content/uploads/...</td>\n",
       "      <td>fake</td>\n",
       "    </tr>\n",
       "    <tr>\n",
       "      <th>5295</th>\n",
       "      <td>https://fedup.wpengine.com/wp-content/uploads/...</td>\n",
       "      <td>Left</td>\n",
       "      <td>https://fedup.wpengine.com/wp-content/uploads/...</td>\n",
       "      <td>fake</td>\n",
       "    </tr>\n",
       "    <tr>\n",
       "      <th>7127</th>\n",
       "      <td>HEY, BERNIE SANDERS: 18 SCHOOL SHOOTINGS Have ...</td>\n",
       "      <td>Politics</td>\n",
       "      <td>16-Feb-18</td>\n",
       "      <td>fake</td>\n",
       "    </tr>\n",
       "    <tr>\n",
       "      <th>8116</th>\n",
       "      <td>IT BEGINS…RINO MEGA-DONOR Threatens Jeb Bush: ...</td>\n",
       "      <td>Politics</td>\n",
       "      <td>18-Feb-18</td>\n",
       "      <td>fake</td>\n",
       "    </tr>\n",
       "    <tr>\n",
       "      <th>8554</th>\n",
       "      <td>“PROUD TRANSGENDER” Democrat Candidate For Con...</td>\n",
       "      <td>Politics</td>\n",
       "      <td>15-Feb-18</td>\n",
       "      <td>fake</td>\n",
       "    </tr>\n",
       "    <tr>\n",
       "      <th>8567</th>\n",
       "      <td>FACEBOOK’S VP Of Ads BLASTS MEDIA: Majority Of...</td>\n",
       "      <td>Politics</td>\n",
       "      <td>17-Feb-18</td>\n",
       "      <td>fake</td>\n",
       "    </tr>\n",
       "    <tr>\n",
       "      <th>8768</th>\n",
       "      <td>BUSTED! Maxine Waters’ Ties to Black Nationali...</td>\n",
       "      <td>Politics</td>\n",
       "      <td>18-Feb-18</td>\n",
       "      <td>fake</td>\n",
       "    </tr>\n",
       "    <tr>\n",
       "      <th>10414</th>\n",
       "      <td>HIGH SCHOOL TEACHER Makes “Shooting At Trump” ...</td>\n",
       "      <td>Politics</td>\n",
       "      <td>18-Feb-18</td>\n",
       "      <td>fake</td>\n",
       "    </tr>\n",
       "    <tr>\n",
       "      <th>10756</th>\n",
       "      <td>WATCH: SNOWFLAKES ASKED Communist Party Platfo...</td>\n",
       "      <td>Politics</td>\n",
       "      <td>19-Feb-18</td>\n",
       "      <td>fake</td>\n",
       "    </tr>\n",
       "    <tr>\n",
       "      <th>13545</th>\n",
       "      <td>JUST IN: PRESIDENT TRUMP AND FIRST LADY Make S...</td>\n",
       "      <td>Politics</td>\n",
       "      <td>16-Feb-18</td>\n",
       "      <td>fake</td>\n",
       "    </tr>\n",
       "    <tr>\n",
       "      <th>13997</th>\n",
       "      <td>SC STATE REP Who is a Former Cop Proposes Smar...</td>\n",
       "      <td>Politics</td>\n",
       "      <td>15-Feb-18</td>\n",
       "      <td>fake</td>\n",
       "    </tr>\n",
       "    <tr>\n",
       "      <th>14060</th>\n",
       "      <td>The DIRTY TRUTH About DACA Recipients…Where Th...</td>\n",
       "      <td>Politics</td>\n",
       "      <td>15-Feb-18</td>\n",
       "      <td>fake</td>\n",
       "    </tr>\n",
       "    <tr>\n",
       "      <th>14553</th>\n",
       "      <td>BREAKING: FL GOV RICK SCOTT Calls for FBI Dire...</td>\n",
       "      <td>Politics</td>\n",
       "      <td>16-Feb-18</td>\n",
       "      <td>fake</td>\n",
       "    </tr>\n",
       "    <tr>\n",
       "      <th>15848</th>\n",
       "      <td>TWO HIGH SCHOOL JROTC Members Tell INCREDIBLE ...</td>\n",
       "      <td>Politics</td>\n",
       "      <td>15-Feb-18</td>\n",
       "      <td>fake</td>\n",
       "    </tr>\n",
       "    <tr>\n",
       "      <th>16603</th>\n",
       "      <td>FACEBOOK RELEASES Ads Paid For By Russians…And...</td>\n",
       "      <td>Politics</td>\n",
       "      <td>17-Feb-18</td>\n",
       "      <td>fake</td>\n",
       "    </tr>\n",
       "    <tr>\n",
       "      <th>20181</th>\n",
       "      <td>JUST IN: Senate Rejects Immigration Bill…Trump...</td>\n",
       "      <td>Politics</td>\n",
       "      <td>15-Feb-18</td>\n",
       "      <td>fake</td>\n",
       "    </tr>\n",
       "    <tr>\n",
       "      <th>20587</th>\n",
       "      <td>WATCH SHERIFF’S Honest Response After a School...</td>\n",
       "      <td>Politics</td>\n",
       "      <td>16-Feb-18</td>\n",
       "      <td>fake</td>\n",
       "    </tr>\n",
       "    <tr>\n",
       "      <th>20832</th>\n",
       "      <td>MEGHAN MCCAIN Cut-Off After Saying the Florida...</td>\n",
       "      <td>Politics</td>\n",
       "      <td>17-Feb-18</td>\n",
       "      <td>fake</td>\n",
       "    </tr>\n",
       "    <tr>\n",
       "      <th>21047</th>\n",
       "      <td>POLITICS FIRST: LEFTIST PARENTS Of Former Comb...</td>\n",
       "      <td>Politics</td>\n",
       "      <td>15-Feb-18</td>\n",
       "      <td>fake</td>\n",
       "    </tr>\n",
       "    <tr>\n",
       "      <th>22074</th>\n",
       "      <td>LOOK WHO Approved Visas For Russian Operatives...</td>\n",
       "      <td>Politics</td>\n",
       "      <td>16-Feb-18</td>\n",
       "      <td>fake</td>\n",
       "    </tr>\n",
       "    <tr>\n",
       "      <th>22375</th>\n",
       "      <td>GOTCHA! A Stammering John Podesta Stunned by a...</td>\n",
       "      <td>Politics</td>\n",
       "      <td>18-Feb-18</td>\n",
       "      <td>fake</td>\n",
       "    </tr>\n",
       "    <tr>\n",
       "      <th>22686</th>\n",
       "      <td>https://100percentfedup.com/served-roy-moore-v...</td>\n",
       "      <td>Politics</td>\n",
       "      <td>https://100percentfedup.com/served-roy-moore-v...</td>\n",
       "      <td>fake</td>\n",
       "    </tr>\n",
       "    <tr>\n",
       "      <th>23296</th>\n",
       "      <td>MSNBC ANCHOR Flabbergasted at What Texas Teach...</td>\n",
       "      <td>Politics</td>\n",
       "      <td>19-Feb-18</td>\n",
       "      <td>fake</td>\n",
       "    </tr>\n",
       "    <tr>\n",
       "      <th>24487</th>\n",
       "      <td>Flashback Video: Susan Rice Says Trump’s Claim...</td>\n",
       "      <td>Politics</td>\n",
       "      <td>16-Feb-18</td>\n",
       "      <td>fake</td>\n",
       "    </tr>\n",
       "    <tr>\n",
       "      <th>25464</th>\n",
       "      <td>https://fedup.wpengine.com/wp-content/uploads/...</td>\n",
       "      <td>Left</td>\n",
       "      <td>https://fedup.wpengine.com/wp-content/uploads/...</td>\n",
       "      <td>fake</td>\n",
       "    </tr>\n",
       "    <tr>\n",
       "      <th>26221</th>\n",
       "      <td>https://fedup.wpengine.com/wp-content/uploads/...</td>\n",
       "      <td>Politics</td>\n",
       "      <td>https://fedup.wpengine.com/wp-content/uploads/...</td>\n",
       "      <td>fake</td>\n",
       "    </tr>\n",
       "    <tr>\n",
       "      <th>27124</th>\n",
       "      <td>TUCKER CARLSON Rips The Left On Gun Control Hy...</td>\n",
       "      <td>Politics</td>\n",
       "      <td>16-Feb-18</td>\n",
       "      <td>fake</td>\n",
       "    </tr>\n",
       "    <tr>\n",
       "      <th>28436</th>\n",
       "      <td>Homepage</td>\n",
       "      <td>Left</td>\n",
       "      <td>MSNBC HOST Rudely Assumes Steel Worker Would N...</td>\n",
       "      <td>fake</td>\n",
       "    </tr>\n",
       "    <tr>\n",
       "      <th>28582</th>\n",
       "      <td>WATCH: Mitt Romney Announces Run for Senate…Ba...</td>\n",
       "      <td>Politics</td>\n",
       "      <td>16-Feb-18</td>\n",
       "      <td>fake</td>\n",
       "    </tr>\n",
       "    <tr>\n",
       "      <th>28834</th>\n",
       "      <td>https://100percentfedup.com/video-hillary-aske...</td>\n",
       "      <td>Politics</td>\n",
       "      <td>https://100percentfedup.com/video-hillary-aske...</td>\n",
       "      <td>fake</td>\n",
       "    </tr>\n",
       "    <tr>\n",
       "      <th>29012</th>\n",
       "      <td>BROTHER OF HERO COACH Breaks Down Over Tribute...</td>\n",
       "      <td>Politics</td>\n",
       "      <td>17-Feb-18</td>\n",
       "      <td>fake</td>\n",
       "    </tr>\n",
       "    <tr>\n",
       "      <th>29380</th>\n",
       "      <td>DOJ’s JEFF SESSIONS Opens Investigation Into W...</td>\n",
       "      <td>Politics</td>\n",
       "      <td>18-Feb-18</td>\n",
       "      <td>fake</td>\n",
       "    </tr>\n",
       "    <tr>\n",
       "      <th>30269</th>\n",
       "      <td>Democrat Senator Warns Mueller Not To Release ...</td>\n",
       "      <td>Politics</td>\n",
       "      <td>19-Feb-18</td>\n",
       "      <td>fake</td>\n",
       "    </tr>\n",
       "    <tr>\n",
       "      <th>33547</th>\n",
       "      <td>WATCH: ’’Carpetbagger” Mitt Romney Takes Swipe...</td>\n",
       "      <td>Politics</td>\n",
       "      <td>18-Feb-18</td>\n",
       "      <td>fake</td>\n",
       "    </tr>\n",
       "    <tr>\n",
       "      <th>34168</th>\n",
       "      <td>https://fedup.wpengine.com/wp-content/uploads/...</td>\n",
       "      <td>Politics</td>\n",
       "      <td>https://fedup.wpengine.com/wp-content/uploads/...</td>\n",
       "      <td>fake</td>\n",
       "    </tr>\n",
       "    <tr>\n",
       "      <th>34299</th>\n",
       "      <td>How The Left, The Anti Defamation League and M...</td>\n",
       "      <td>Politics</td>\n",
       "      <td>17-Feb-18</td>\n",
       "      <td>fake</td>\n",
       "    </tr>\n",
       "    <tr>\n",
       "      <th>35062</th>\n",
       "      <td>https://fedup.wpengine.com/wp-content/uploads/...</td>\n",
       "      <td>Government</td>\n",
       "      <td>https://fedup.wpengine.com/wp-content/uploads/...</td>\n",
       "      <td>fake</td>\n",
       "    </tr>\n",
       "    <tr>\n",
       "      <th>40390</th>\n",
       "      <td>MEDIA PROMOTES Fake News That Shooter Connecte...</td>\n",
       "      <td>Politics</td>\n",
       "      <td>15-Feb-18</td>\n",
       "      <td>fake</td>\n",
       "    </tr>\n",
       "    <tr>\n",
       "      <th>42154</th>\n",
       "      <td>HUH? RAPPER JAY-Z Compares Trayvon Martin to M...</td>\n",
       "      <td>Politics</td>\n",
       "      <td>15-Feb-18</td>\n",
       "      <td>fake</td>\n",
       "    </tr>\n",
       "    <tr>\n",
       "      <th>43011</th>\n",
       "      <td>“THE TRUMP CURSE IS REAL”…Social Media Respond...</td>\n",
       "      <td>Politics</td>\n",
       "      <td>17-Feb-18</td>\n",
       "      <td>fake</td>\n",
       "    </tr>\n",
       "    <tr>\n",
       "      <th>43617</th>\n",
       "      <td>https://100percentfedup.com/12-yr-old-black-co...</td>\n",
       "      <td>Politics</td>\n",
       "      <td>https://100percentfedup.com/12-yr-old-black-co...</td>\n",
       "      <td>fake</td>\n",
       "    </tr>\n",
       "    <tr>\n",
       "      <th>44457</th>\n",
       "      <td>WHAT’S WRONG WITH PELOSI? Nancy Stutters, Stam...</td>\n",
       "      <td>Politics</td>\n",
       "      <td>15-Feb-18</td>\n",
       "      <td>fake</td>\n",
       "    </tr>\n",
       "  </tbody>\n",
       "</table>\n",
       "</div>"
      ],
      "text/plain": [
       "                                                   title     subject  \\\n",
       "328    JUST IN: CROOKED DOJ OFFICIAL Didn’t Reveal Th...    Politics   \n",
       "1352   LOCAL REPORTER IN DEEP BLUE STATE Stuns Libera...    Politics   \n",
       "1883   JUST IN: BADASS GENERAL JOHN KELLY Shoved Chin...    Politics   \n",
       "5157   https://fedup.wpengine.com/wp-content/uploads/...  Government   \n",
       "5295   https://fedup.wpengine.com/wp-content/uploads/...        Left   \n",
       "7127   HEY, BERNIE SANDERS: 18 SCHOOL SHOOTINGS Have ...    Politics   \n",
       "8116   IT BEGINS…RINO MEGA-DONOR Threatens Jeb Bush: ...    Politics   \n",
       "8554   “PROUD TRANSGENDER” Democrat Candidate For Con...    Politics   \n",
       "8567   FACEBOOK’S VP Of Ads BLASTS MEDIA: Majority Of...    Politics   \n",
       "8768   BUSTED! Maxine Waters’ Ties to Black Nationali...    Politics   \n",
       "10414  HIGH SCHOOL TEACHER Makes “Shooting At Trump” ...    Politics   \n",
       "10756  WATCH: SNOWFLAKES ASKED Communist Party Platfo...    Politics   \n",
       "13545  JUST IN: PRESIDENT TRUMP AND FIRST LADY Make S...    Politics   \n",
       "13997  SC STATE REP Who is a Former Cop Proposes Smar...    Politics   \n",
       "14060  The DIRTY TRUTH About DACA Recipients…Where Th...    Politics   \n",
       "14553  BREAKING: FL GOV RICK SCOTT Calls for FBI Dire...    Politics   \n",
       "15848  TWO HIGH SCHOOL JROTC Members Tell INCREDIBLE ...    Politics   \n",
       "16603  FACEBOOK RELEASES Ads Paid For By Russians…And...    Politics   \n",
       "20181  JUST IN: Senate Rejects Immigration Bill…Trump...    Politics   \n",
       "20587  WATCH SHERIFF’S Honest Response After a School...    Politics   \n",
       "20832  MEGHAN MCCAIN Cut-Off After Saying the Florida...    Politics   \n",
       "21047  POLITICS FIRST: LEFTIST PARENTS Of Former Comb...    Politics   \n",
       "22074  LOOK WHO Approved Visas For Russian Operatives...    Politics   \n",
       "22375  GOTCHA! A Stammering John Podesta Stunned by a...    Politics   \n",
       "22686  https://100percentfedup.com/served-roy-moore-v...    Politics   \n",
       "23296  MSNBC ANCHOR Flabbergasted at What Texas Teach...    Politics   \n",
       "24487  Flashback Video: Susan Rice Says Trump’s Claim...    Politics   \n",
       "25464  https://fedup.wpengine.com/wp-content/uploads/...        Left   \n",
       "26221  https://fedup.wpengine.com/wp-content/uploads/...    Politics   \n",
       "27124  TUCKER CARLSON Rips The Left On Gun Control Hy...    Politics   \n",
       "28436                                           Homepage        Left   \n",
       "28582  WATCH: Mitt Romney Announces Run for Senate…Ba...    Politics   \n",
       "28834  https://100percentfedup.com/video-hillary-aske...    Politics   \n",
       "29012  BROTHER OF HERO COACH Breaks Down Over Tribute...    Politics   \n",
       "29380  DOJ’s JEFF SESSIONS Opens Investigation Into W...    Politics   \n",
       "30269  Democrat Senator Warns Mueller Not To Release ...    Politics   \n",
       "33547  WATCH: ’’Carpetbagger” Mitt Romney Takes Swipe...    Politics   \n",
       "34168  https://fedup.wpengine.com/wp-content/uploads/...    Politics   \n",
       "34299  How The Left, The Anti Defamation League and M...    Politics   \n",
       "35062  https://fedup.wpengine.com/wp-content/uploads/...  Government   \n",
       "40390  MEDIA PROMOTES Fake News That Shooter Connecte...    Politics   \n",
       "42154  HUH? RAPPER JAY-Z Compares Trayvon Martin to M...    Politics   \n",
       "43011  “THE TRUMP CURSE IS REAL”…Social Media Respond...    Politics   \n",
       "43617  https://100percentfedup.com/12-yr-old-black-co...    Politics   \n",
       "44457  WHAT’S WRONG WITH PELOSI? Nancy Stutters, Stam...    Politics   \n",
       "\n",
       "                                                    date label  \n",
       "328                                            14-Feb-18  fake  \n",
       "1352                                           17-Feb-18  fake  \n",
       "1883                                           18-Feb-18  fake  \n",
       "5157   https://fedup.wpengine.com/wp-content/uploads/...  fake  \n",
       "5295   https://fedup.wpengine.com/wp-content/uploads/...  fake  \n",
       "7127                                           16-Feb-18  fake  \n",
       "8116                                           18-Feb-18  fake  \n",
       "8554                                           15-Feb-18  fake  \n",
       "8567                                           17-Feb-18  fake  \n",
       "8768                                           18-Feb-18  fake  \n",
       "10414                                          18-Feb-18  fake  \n",
       "10756                                          19-Feb-18  fake  \n",
       "13545                                          16-Feb-18  fake  \n",
       "13997                                          15-Feb-18  fake  \n",
       "14060                                          15-Feb-18  fake  \n",
       "14553                                          16-Feb-18  fake  \n",
       "15848                                          15-Feb-18  fake  \n",
       "16603                                          17-Feb-18  fake  \n",
       "20181                                          15-Feb-18  fake  \n",
       "20587                                          16-Feb-18  fake  \n",
       "20832                                          17-Feb-18  fake  \n",
       "21047                                          15-Feb-18  fake  \n",
       "22074                                          16-Feb-18  fake  \n",
       "22375                                          18-Feb-18  fake  \n",
       "22686  https://100percentfedup.com/served-roy-moore-v...  fake  \n",
       "23296                                          19-Feb-18  fake  \n",
       "24487                                          16-Feb-18  fake  \n",
       "25464  https://fedup.wpengine.com/wp-content/uploads/...  fake  \n",
       "26221  https://fedup.wpengine.com/wp-content/uploads/...  fake  \n",
       "27124                                          16-Feb-18  fake  \n",
       "28436  MSNBC HOST Rudely Assumes Steel Worker Would N...  fake  \n",
       "28582                                          16-Feb-18  fake  \n",
       "28834  https://100percentfedup.com/video-hillary-aske...  fake  \n",
       "29012                                          17-Feb-18  fake  \n",
       "29380                                          18-Feb-18  fake  \n",
       "30269                                          19-Feb-18  fake  \n",
       "33547                                          18-Feb-18  fake  \n",
       "34168  https://fedup.wpengine.com/wp-content/uploads/...  fake  \n",
       "34299                                          17-Feb-18  fake  \n",
       "35062  https://fedup.wpengine.com/wp-content/uploads/...  fake  \n",
       "40390                                          15-Feb-18  fake  \n",
       "42154                                          15-Feb-18  fake  \n",
       "43011                                          17-Feb-18  fake  \n",
       "43617  https://100percentfedup.com/12-yr-old-black-co...  fake  \n",
       "44457                                          15-Feb-18  fake  "
      ]
     },
     "execution_count": 10,
     "metadata": {},
     "output_type": "execute_result"
    }
   ],
   "source": [
    "news[news.date.str.extract(r\"^((?!\\w+ \\d+, \\d+))*\", expand=False).notnull()]"
   ]
  },
  {
   "cell_type": "markdown",
   "metadata": {},
   "source": [
    "Here are some observations about our recent exploration:\n",
    "\n",
    "* The articles that have falsely formatted dates and other values for dates are all labelled fake.\n",
    "* They are mostly about politics.\n",
    "\n",
    "What we will do is, we will replace these values with null values."
   ]
  },
  {
   "cell_type": "code",
   "execution_count": 11,
   "metadata": {
    "scrolled": true
   },
   "outputs": [],
   "source": [
    "news.loc[news.date.str.extract(r\"^((?!\\w+ \\d+, \\d+))*\", expand=False).notnull(), \"date\"] = np.nan"
   ]
  },
  {
   "cell_type": "code",
   "execution_count": 12,
   "metadata": {},
   "outputs": [
    {
     "data": {
      "text/plain": [
       "45"
      ]
     },
     "execution_count": 12,
     "metadata": {},
     "output_type": "execute_result"
    }
   ],
   "source": [
    "news[news.date.isnull()].shape[0]"
   ]
  },
  {
   "cell_type": "markdown",
   "metadata": {},
   "source": [
    "Before classification, we will visualize our data to see if we're missing anything so far. We will do some further preprocessing later on."
   ]
  },
  {
   "cell_type": "markdown",
   "metadata": {},
   "source": [
    "## 3. Visualizing the data for gaining further insights\n",
    "\n",
    "We will now visualize and analyze the data we have to see if there are any patterns we might be missing. We will begin with visualizing the time series data for frequencies of fake vs. real news articles."
   ]
  },
  {
   "cell_type": "code",
   "execution_count": 13,
   "metadata": {},
   "outputs": [
    {
     "name": "stdout",
     "output_type": "stream",
     "text": [
      "<class 'pandas.core.frame.DataFrame'>\n",
      "RangeIndex: 44898 entries, 0 to 44897\n",
      "Data columns (total 4 columns):\n",
      " #   Column   Non-Null Count  Dtype \n",
      "---  ------   --------------  ----- \n",
      " 0   title    44898 non-null  object\n",
      " 1   subject  44898 non-null  object\n",
      " 2   date     44853 non-null  object\n",
      " 3   label    44898 non-null  object\n",
      "dtypes: object(4)\n",
      "memory usage: 1.4+ MB\n"
     ]
    }
   ],
   "source": [
    "news.info()"
   ]
  },
  {
   "cell_type": "code",
   "execution_count": 14,
   "metadata": {},
   "outputs": [
    {
     "data": {
      "text/plain": [
       "Text(0, 0.5, 'Count')"
      ]
     },
     "execution_count": 14,
     "metadata": {},
     "output_type": "execute_result"
    },
    {
     "data": {
      "image/png": "[encoded data removed]",
      "text/plain": [
       "<Figure size 1152x720 with 1 Axes>"
      ]
     },
     "metadata": {
      "needs_background": "light"
     },
     "output_type": "display_data"
    }
   ],
   "source": [
    "news.date = pd.to_datetime(news.date, errors=\"coerce\")\n",
    "news_grouped = news[[\"date\", \"subject\", \"label\"]].groupby([\"date\", \"label\"]).count().reset_index()\n",
    "\n",
    "fig, ax = plt.subplots(figsize=(16,10))\n",
    "sns.lineplot(x=\"date\", y=\"subject\", hue=\"label\", data=news_grouped, palette=\"Set2\", ax=ax)\n",
    "plt.title(\"News Articles Labelled Fake vs. Real\")\n",
    "plt.xlabel(\"Time\")\n",
    "plt.ylabel(\"Count\")"
   ]
  },
  {
   "cell_type": "markdown",
   "metadata": {},
   "source": [
    "As we are able to see from the line chart above, we have no real news article data prior to the beginning of 2016. However, even after that, the amount of fake news articles is dominating compared to the amount of real news articles for a while. We see a sudden increase in number of real news articles in the last quarter of 2016 followed by another unexpected peak nearing May, 2017. Afterwards, we see a sudden and massive increase in the amount of real articles' data with a more subtle decrease in number of fake articles over time. \n",
    "\n",
    "Let's take a look at the subjects."
   ]
  },
  {
   "cell_type": "code",
   "execution_count": 15,
   "metadata": {},
   "outputs": [
    {
     "data": {
      "text/plain": [
       "<matplotlib.legend.Legend at 0x1eb1013b088>"
      ]
     },
     "execution_count": 15,
     "metadata": {},
     "output_type": "execute_result"
    },
    {
     "data": {
      "image/png": "[encoded data removed]",
      "text/plain": [
       "<Figure size 1152x576 with 1 Axes>"
      ]
     },
     "metadata": {
      "needs_background": "light"
     },
     "output_type": "display_data"
    }
   ],
   "source": [
    "news_group_by_subj_and_label = news.groupby(by=[\"label\", \"subject\"]).count().reset_index()\n",
    "\n",
    "fig1, ax1 = plt.subplots(figsize=(16, 8))\n",
    "sns.barplot(x=\"subject\", y=\"title\", hue=\"label\", data=news_group_by_subj_and_label, palette=\"Set2\", saturation=0.5, ax=ax1)\n",
    "plt.title(\"Fake vs. Real News Articles by Subjects\")\n",
    "plt.xticks(rotation=45, horizontalalignment='center', fontweight='light', fontsize='x-large')\n",
    "plt.yticks(horizontalalignment='center', fontweight='light', fontsize='large')\n",
    "plt.xlabel(\"Subjects\", fontsize=\"large\")\n",
    "plt.ylabel(\"Amount\", fontsize=\"large\")\n",
    "plt.legend(fontsize=\"large\")"
   ]
  },
  {
   "cell_type": "markdown",
   "metadata": {},
   "source": [
    "As we can see, \"real\" article group contains articles that have either \"Politics\" or \"World\" as their subjects while \"fake\" articles consist of a variety of subjects. Fake news articles seem to have a tendency to belong into the subject category \"All\", followed by \"Politics\" whereas not showing any interest in \"World\" category. In the meanwhile, real news articles belong into either one of these categories: \"Politics\" and \"World\". Both real and fake articles have many articles in \"Politics\" category. \n",
    "\n",
    "## 4. Further Preprocessing\n",
    "\n",
    "Before we move on to the classification, we will be working on the data further.\n",
    "\n",
    "Our first step will be dropping some data. We will drop articles that were released before 2016 because there are no real news articles in that period, therefore, the data is not representative enough. Talking about representation, we will also be dropping articles from subjects \"Government\", \"Left\", \"Middle East\" and \"US\". That's because the only common subject both fake and real articles have is \"Politics\" and we will be dropping too much data if we drop articles with \"All\" and \"World\" subjects. Also, their frequencies and names also indicate that the \"All\" subject for fake articles might be the equivalent of the \"World\" subject in real news. "
   ]
  },
  {
   "cell_type": "code",
   "execution_count": 16,
   "metadata": {},
   "outputs": [
    {
     "data": {
      "text/plain": [
       "2016-01-02    35\n",
       "2016-01-03    31\n",
       "2016-01-04    34\n",
       "2016-01-05    30\n",
       "2016-01-06    43\n",
       "              ..\n",
       "2017-12-27    78\n",
       "2017-12-28    11\n",
       "2017-12-29    26\n",
       "2017-12-30    16\n",
       "2017-12-31    12\n",
       "Name: date, Length: 730, dtype: int64"
      ]
     },
     "execution_count": 16,
     "metadata": {},
     "output_type": "execute_result"
    }
   ],
   "source": [
    "news_clean = news[news.date > dt.datetime(2016,1,1)]\n",
    "news_clean.date.value_counts().sort_index()"
   ]
  },
  {
   "cell_type": "code",
   "execution_count": 17,
   "metadata": {},
   "outputs": [
    {
     "data": {
      "text/plain": [
       "Politics    16910\n",
       "World       10145\n",
       "All          9030\n",
       "Name: subject, dtype: int64"
      ]
     },
     "execution_count": 17,
     "metadata": {},
     "output_type": "execute_result"
    }
   ],
   "source": [
    "news_clean = news_clean[news_clean.subject.isin([\"All\", \"Politics\", \"World\"])]\n",
    "news_clean.subject.value_counts()"
   ]
  },
  {
   "cell_type": "code",
   "execution_count": 18,
   "metadata": {},
   "outputs": [
    {
     "data": {
      "text/plain": [
       "36085"
      ]
     },
     "execution_count": 18,
     "metadata": {},
     "output_type": "execute_result"
    }
   ],
   "source": [
    "news_clean.shape[0]"
   ]
  },
  {
   "cell_type": "markdown",
   "metadata": {},
   "source": [
    "As we can see, we still ended up with a decent amount of data! As a next step, we will be working on our features. \n",
    "\n",
    "## 5. Feature Weighting\n",
    "\n",
    "As our features, we are going to use words in the article titles. We will be assigning weights to these words using term-frequencies of them. We will begin with splitting the dat into training and testing sets."
   ]
  },
  {
   "cell_type": "code",
   "execution_count": 19,
   "metadata": {},
   "outputs": [],
   "source": [
    "training_data, testing_data = train_test_split(news_clean, random_state=1) #seed for reproducibility\n",
    "\n",
    "Y_train = training_data[\"label\"].values\n",
    "Y_test = testing_data[\"label\"].values\n",
    "\n",
    "def word_counter(data, column, training_set, testing_set):\n",
    "\n",
    "    cv = CountVectorizer(binary=False, max_df=0.95)\n",
    "    cv.fit_transform(training_data[column].values)\n",
    "    \n",
    "    train_feature_set = cv.transform(training_data[column].values)\n",
    "    test_feature_set = cv.transform(testing_data[column].values)\n",
    "    \n",
    "    return train_feature_set, test_feature_set, cv\n",
    "\n",
    "X_train, X_test, feature_transformer = word_counter(news_clean, \"title\", training_data, testing_data)"
   ]
  },
  {
   "cell_type": "markdown",
   "metadata": {},
   "source": [
    "## 6. Training the model, prediction & accuracy\n",
    "\n",
    "Now that we have prepared our features, we will be training our model. Then, we will predict values for our testing set. We will be using the accuracy metric after that. Accuracy is measured using the formula below:\n",
    "\n",
    "\\begin{equation}\n",
    "\\text{Accuracy} = \\frac{\\text{number of correctly classified articles}}{\\text{total number of classified articles}}\n",
    "\\end{equation}"
   ]
  },
  {
   "cell_type": "code",
   "execution_count": 20,
   "metadata": {},
   "outputs": [],
   "source": [
    "classifier = LogisticRegression(solver=\"newton-cg\", C=5, penalty=\"l2\", multi_class=\"multinomial\", max_iter=1000)\n",
    "model = classifier.fit(X_train, Y_train)"
   ]
  },
  {
   "cell_type": "code",
   "execution_count": 21,
   "metadata": {},
   "outputs": [
    {
     "name": "stdout",
     "output_type": "stream",
     "text": [
      "Our model has 96.0% prediction accuracy.\n"
     ]
    }
   ],
   "source": [
    "predictions = model.predict(X_test)\n",
    "accuracy = accuracy_score(Y_test, predictions, normalize=True)\n",
    "print(\"Our model has {}% prediction accuracy.\".format(round(accuracy, 2) * 100))"
   ]
  },
  {
   "cell_type": "markdown",
   "metadata": {},
   "source": [
    "## 7. Conclusion\n",
    "\n",
    "Through this project, we have cleaned, analyzed, visualized and classified fake and real news articles. \n",
    "\n",
    "* We have cleaned our data to prepare it for further analysis.\n",
    "* Later, we have visualized and analyzed the data before fitting it to make sure that our data is ready.\n",
    "* We assigned term-frequencies of the words in the title column as their weights while feature weighting.\n",
    "* We have used Multinomial Logistic Regression for classification and accuracy as our metric. Our model successfully classified 96% of the testing data in the end."
   ]
  }
 ],
 "metadata": {
  "kernelspec": {
   "display_name": "Python 3",
   "language": "python",
   "name": "python3"
  },
  "language_info": {
   "codemirror_mode": {
    "name": "ipython",
    "version": 3
   },
   "file_extension": ".py",
   "mimetype": "text/x-python",
   "name": "python",
   "nbconvert_exporter": "python",
   "pygments_lexer": "ipython3",
   "version": "3.7.6"
  }
 },
 "nbformat": 4,
 "nbformat_minor": 4
}
